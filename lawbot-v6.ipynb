{
 "cells": [
  {
   "cell_type": "markdown",
   "metadata": {},
   "source": [
    "# Legal Aid Provider LLM"
   ]
  },
  {
   "cell_type": "code",
   "execution_count": 1,
   "metadata": {
    "execution": {
     "iopub.execute_input": "2023-09-21T18:44:19.765182Z",
     "iopub.status.busy": "2023-09-21T18:44:19.764852Z",
     "iopub.status.idle": "2023-09-21T18:45:21.618551Z",
     "shell.execute_reply": "2023-09-21T18:45:21.617562Z",
     "shell.execute_reply.started": "2023-09-21T18:44:19.765157Z"
    },
    "trusted": true
   },
   "outputs": [
    {
     "name": "stdout",
     "output_type": "stream",
     "text": [
      "Collecting langchain\n",
      "  Downloading langchain-0.0.298-py3-none-any.whl (1.7 MB)\n",
      "\u001b[2K     \u001b[90m━━━━━━━━━━━━━━━━━━━━━━━━━━━━━━━━━━━━━━━━\u001b[0m \u001b[32m1.7/1.7 MB\u001b[0m \u001b[31m39.2 MB/s\u001b[0m eta \u001b[36m0:00:00\u001b[0m00:01\u001b[0m\n",
      "\u001b[?25hRequirement already satisfied: PyYAML>=5.3 in /opt/conda/lib/python3.10/site-packages (from langchain) (6.0)\n",
      "Requirement already satisfied: SQLAlchemy<3,>=1.4 in /opt/conda/lib/python3.10/site-packages (from langchain) (2.0.17)\n",
      "Requirement already satisfied: aiohttp<4.0.0,>=3.8.3 in /opt/conda/lib/python3.10/site-packages (from langchain) (3.8.4)\n",
      "Requirement already satisfied: async-timeout<5.0.0,>=4.0.0 in /opt/conda/lib/python3.10/site-packages (from langchain) (4.0.2)\n",
      "Requirement already satisfied: dataclasses-json<0.7,>=0.5.7 in /opt/conda/lib/python3.10/site-packages (from langchain) (0.5.14)\n",
      "Collecting langsmith<0.1.0,>=0.0.38 (from langchain)\n",
      "  Downloading langsmith-0.0.39-py3-none-any.whl (38 kB)\n",
      "Requirement already satisfied: numexpr<3.0.0,>=2.8.4 in /opt/conda/lib/python3.10/site-packages (from langchain) (2.8.5)\n",
      "Requirement already satisfied: numpy<2,>=1 in /opt/conda/lib/python3.10/site-packages (from langchain) (1.23.5)\n",
      "Requirement already satisfied: pydantic<3,>=1 in /opt/conda/lib/python3.10/site-packages (from langchain) (1.10.9)\n",
      "Requirement already satisfied: requests<3,>=2 in /opt/conda/lib/python3.10/site-packages (from langchain) (2.31.0)\n",
      "Requirement already satisfied: tenacity<9.0.0,>=8.1.0 in /opt/conda/lib/python3.10/site-packages (from langchain) (8.2.2)\n",
      "Requirement already satisfied: attrs>=17.3.0 in /opt/conda/lib/python3.10/site-packages (from aiohttp<4.0.0,>=3.8.3->langchain) (23.1.0)\n",
      "Requirement already satisfied: charset-normalizer<4.0,>=2.0 in /opt/conda/lib/python3.10/site-packages (from aiohttp<4.0.0,>=3.8.3->langchain) (3.1.0)\n",
      "Requirement already satisfied: multidict<7.0,>=4.5 in /opt/conda/lib/python3.10/site-packages (from aiohttp<4.0.0,>=3.8.3->langchain) (6.0.4)\n",
      "Requirement already satisfied: yarl<2.0,>=1.0 in /opt/conda/lib/python3.10/site-packages (from aiohttp<4.0.0,>=3.8.3->langchain) (1.9.2)\n",
      "Requirement already satisfied: frozenlist>=1.1.1 in /opt/conda/lib/python3.10/site-packages (from aiohttp<4.0.0,>=3.8.3->langchain) (1.3.3)\n",
      "Requirement already satisfied: aiosignal>=1.1.2 in /opt/conda/lib/python3.10/site-packages (from aiohttp<4.0.0,>=3.8.3->langchain) (1.3.1)\n",
      "Requirement already satisfied: marshmallow<4.0.0,>=3.18.0 in /opt/conda/lib/python3.10/site-packages (from dataclasses-json<0.7,>=0.5.7->langchain) (3.20.1)\n",
      "Requirement already satisfied: typing-inspect<1,>=0.4.0 in /opt/conda/lib/python3.10/site-packages (from dataclasses-json<0.7,>=0.5.7->langchain) (0.9.0)\n",
      "Requirement already satisfied: typing-extensions>=4.2.0 in /opt/conda/lib/python3.10/site-packages (from pydantic<3,>=1->langchain) (4.6.3)\n",
      "Requirement already satisfied: idna<4,>=2.5 in /opt/conda/lib/python3.10/site-packages (from requests<3,>=2->langchain) (3.4)\n",
      "Requirement already satisfied: urllib3<3,>=1.21.1 in /opt/conda/lib/python3.10/site-packages (from requests<3,>=2->langchain) (1.26.15)\n",
      "Requirement already satisfied: certifi>=2017.4.17 in /opt/conda/lib/python3.10/site-packages (from requests<3,>=2->langchain) (2023.7.22)\n",
      "Requirement already satisfied: greenlet!=0.4.17 in /opt/conda/lib/python3.10/site-packages (from SQLAlchemy<3,>=1.4->langchain) (2.0.2)\n",
      "Requirement already satisfied: packaging>=17.0 in /opt/conda/lib/python3.10/site-packages (from marshmallow<4.0.0,>=3.18.0->dataclasses-json<0.7,>=0.5.7->langchain) (21.3)\n",
      "Requirement already satisfied: mypy-extensions>=0.3.0 in /opt/conda/lib/python3.10/site-packages (from typing-inspect<1,>=0.4.0->dataclasses-json<0.7,>=0.5.7->langchain) (1.0.0)\n",
      "Requirement already satisfied: pyparsing!=3.0.5,>=2.0.2 in /opt/conda/lib/python3.10/site-packages (from packaging>=17.0->marshmallow<4.0.0,>=3.18.0->dataclasses-json<0.7,>=0.5.7->langchain) (3.0.9)\n",
      "Installing collected packages: langsmith, langchain\n",
      "Successfully installed langchain-0.0.298 langsmith-0.0.39\n",
      "Collecting openai\n",
      "  Downloading openai-0.28.0-py3-none-any.whl (76 kB)\n",
      "\u001b[2K     \u001b[90m━━━━━━━━━━━━━━━━━━━━━━━━━━━━━━━━━━━━━━━━\u001b[0m \u001b[32m76.5/76.5 kB\u001b[0m \u001b[31m4.5 MB/s\u001b[0m eta \u001b[36m0:00:00\u001b[0m\n",
      "\u001b[?25hRequirement already satisfied: requests>=2.20 in /opt/conda/lib/python3.10/site-packages (from openai) (2.31.0)\n",
      "Requirement already satisfied: tqdm in /opt/conda/lib/python3.10/site-packages (from openai) (4.66.1)\n",
      "Requirement already satisfied: aiohttp in /opt/conda/lib/python3.10/site-packages (from openai) (3.8.4)\n",
      "Requirement already satisfied: charset-normalizer<4,>=2 in /opt/conda/lib/python3.10/site-packages (from requests>=2.20->openai) (3.1.0)\n",
      "Requirement already satisfied: idna<4,>=2.5 in /opt/conda/lib/python3.10/site-packages (from requests>=2.20->openai) (3.4)\n",
      "Requirement already satisfied: urllib3<3,>=1.21.1 in /opt/conda/lib/python3.10/site-packages (from requests>=2.20->openai) (1.26.15)\n",
      "Requirement already satisfied: certifi>=2017.4.17 in /opt/conda/lib/python3.10/site-packages (from requests>=2.20->openai) (2023.7.22)\n",
      "Requirement already satisfied: attrs>=17.3.0 in /opt/conda/lib/python3.10/site-packages (from aiohttp->openai) (23.1.0)\n",
      "Requirement already satisfied: multidict<7.0,>=4.5 in /opt/conda/lib/python3.10/site-packages (from aiohttp->openai) (6.0.4)\n",
      "Requirement already satisfied: async-timeout<5.0,>=4.0.0a3 in /opt/conda/lib/python3.10/site-packages (from aiohttp->openai) (4.0.2)\n",
      "Requirement already satisfied: yarl<2.0,>=1.0 in /opt/conda/lib/python3.10/site-packages (from aiohttp->openai) (1.9.2)\n",
      "Requirement already satisfied: frozenlist>=1.1.1 in /opt/conda/lib/python3.10/site-packages (from aiohttp->openai) (1.3.3)\n",
      "Requirement already satisfied: aiosignal>=1.1.2 in /opt/conda/lib/python3.10/site-packages (from aiohttp->openai) (1.3.1)\n",
      "Installing collected packages: openai\n",
      "Successfully installed openai-0.28.0\n",
      "Requirement already satisfied: python-dotenv in /opt/conda/lib/python3.10/site-packages (1.0.0)\n",
      "Collecting faiss-cpu\n",
      "  Downloading faiss_cpu-1.7.4-cp310-cp310-manylinux_2_17_x86_64.manylinux2014_x86_64.whl (17.6 MB)\n",
      "\u001b[2K     \u001b[90m━━━━━━━━━━━━━━━━━━━━━━━━━━━━━━━━━━━━━━━━\u001b[0m \u001b[32m17.6/17.6 MB\u001b[0m \u001b[31m72.4 MB/s\u001b[0m eta \u001b[36m0:00:00\u001b[0m00:01\u001b[0m00:01\u001b[0m\n",
      "\u001b[?25hInstalling collected packages: faiss-cpu\n",
      "Successfully installed faiss-cpu-1.7.4\n",
      "Collecting tiktoken\n",
      "  Downloading tiktoken-0.5.1-cp310-cp310-manylinux_2_17_x86_64.manylinux2014_x86_64.whl (2.0 MB)\n",
      "\u001b[2K     \u001b[90m━━━━━━━━━━━━━━━━━━━━━━━━━━━━━━━━━━━━━━━━\u001b[0m \u001b[32m2.0/2.0 MB\u001b[0m \u001b[31m36.2 MB/s\u001b[0m eta \u001b[36m0:00:00\u001b[0ma \u001b[36m0:00:01\u001b[0m\n",
      "\u001b[?25hRequirement already satisfied: regex>=2022.1.18 in /opt/conda/lib/python3.10/site-packages (from tiktoken) (2023.6.3)\n",
      "Requirement already satisfied: requests>=2.26.0 in /opt/conda/lib/python3.10/site-packages (from tiktoken) (2.31.0)\n",
      "Requirement already satisfied: charset-normalizer<4,>=2 in /opt/conda/lib/python3.10/site-packages (from requests>=2.26.0->tiktoken) (3.1.0)\n",
      "Requirement already satisfied: idna<4,>=2.5 in /opt/conda/lib/python3.10/site-packages (from requests>=2.26.0->tiktoken) (3.4)\n",
      "Requirement already satisfied: urllib3<3,>=1.21.1 in /opt/conda/lib/python3.10/site-packages (from requests>=2.26.0->tiktoken) (1.26.15)\n",
      "Requirement already satisfied: certifi>=2017.4.17 in /opt/conda/lib/python3.10/site-packages (from requests>=2.26.0->tiktoken) (2023.7.22)\n",
      "Installing collected packages: tiktoken\n",
      "Successfully installed tiktoken-0.5.1\n",
      "Collecting google-search-results\n",
      "  Downloading google_search_results-2.4.2.tar.gz (18 kB)\n",
      "  Preparing metadata (setup.py) ... \u001b[?25ldone\n",
      "\u001b[?25hRequirement already satisfied: requests in /opt/conda/lib/python3.10/site-packages (from google-search-results) (2.31.0)\n",
      "Requirement already satisfied: charset-normalizer<4,>=2 in /opt/conda/lib/python3.10/site-packages (from requests->google-search-results) (3.1.0)\n",
      "Requirement already satisfied: idna<4,>=2.5 in /opt/conda/lib/python3.10/site-packages (from requests->google-search-results) (3.4)\n",
      "Requirement already satisfied: urllib3<3,>=1.21.1 in /opt/conda/lib/python3.10/site-packages (from requests->google-search-results) (1.26.15)\n",
      "Requirement already satisfied: certifi>=2017.4.17 in /opt/conda/lib/python3.10/site-packages (from requests->google-search-results) (2023.7.22)\n",
      "Building wheels for collected packages: google-search-results\n",
      "  Building wheel for google-search-results (setup.py) ... \u001b[?25ldone\n",
      "\u001b[?25h  Created wheel for google-search-results: filename=google_search_results-2.4.2-py3-none-any.whl size=32002 sha256=685faf900ace9f1a63a88636040478eabbc971f14992c20b82fb9c74443e0c80\n",
      "  Stored in directory: /root/.cache/pip/wheels/d3/b2/c3/03302d12bb44a2cdff3c9371f31b72c0c4e84b8d2285eeac53\n",
      "Successfully built google-search-results\n",
      "Installing collected packages: google-search-results\n",
      "Successfully installed google-search-results-2.4.2\n"
     ]
    }
   ],
   "source": [
    "!pip install langchain  \n",
    "!pip install openai\n",
    "!pip install python-dotenv\n",
    "!pip install faiss-cpu\n",
    "!pip install tiktoken\n",
    "!pip install google-search-results #change to duckduckgo when no token uwu"
   ]
  },
  {
   "cell_type": "code",
   "execution_count": 2,
   "metadata": {
    "execution": {
     "iopub.execute_input": "2023-09-21T18:45:21.620514Z",
     "iopub.status.busy": "2023-09-21T18:45:21.620213Z",
     "iopub.status.idle": "2023-09-21T18:45:24.759521Z",
     "shell.execute_reply": "2023-09-21T18:45:24.758464Z",
     "shell.execute_reply.started": "2023-09-21T18:45:21.620488Z"
    },
    "trusted": true
   },
   "outputs": [],
   "source": [
    "import os\n",
    "from langchain.document_loaders import UnstructuredFileLoader \n",
    "from langchain.prompts import PromptTemplate,StringPromptTemplate,StringPromptTemplate\n",
    "from langchain.text_splitter import RecursiveCharacterTextSplitter\n",
    "from langchain.embeddings import OpenAIEmbeddings\n",
    "from langchain.vectorstores.faiss import FAISS\n",
    "import pickle\n",
    "from langchain.chains import RetrievalQA, LLMChain\n",
    "from langchain import OpenAI, SerpAPIWrapper\n",
    "from langchain.agents import initialize_agent, Tool, AgentExecutor, LLMSingleActionAgent, AgentOutputParser, AgentType\n",
    "from langchain.schema import SystemMessage,AgentAction, AgentFinish, OutputParserException\n",
    "from typing import List, Union\n",
    "import re"
   ]
  },
  {
   "cell_type": "code",
   "execution_count": 12,
   "metadata": {
    "execution": {
     "iopub.execute_input": "2023-09-21T18:49:38.153602Z",
     "iopub.status.busy": "2023-09-21T18:49:38.153267Z",
     "iopub.status.idle": "2023-09-21T18:49:38.157977Z",
     "shell.execute_reply": "2023-09-21T18:49:38.157136Z",
     "shell.execute_reply.started": "2023-09-21T18:49:38.153579Z"
    },
    "trusted": true
   },
   "outputs": [],
   "source": [
    "os.environ[\"OPENAI_API_KEY\"] = ''"
   ]
  },
  {
   "cell_type": "code",
   "execution_count": 13,
   "metadata": {
    "execution": {
     "iopub.execute_input": "2023-09-21T18:49:42.383133Z",
     "iopub.status.busy": "2023-09-21T18:49:42.382759Z",
     "iopub.status.idle": "2023-09-21T18:49:51.875248Z",
     "shell.execute_reply": "2023-09-21T18:49:51.874157Z",
     "shell.execute_reply.started": "2023-09-21T18:49:42.383099Z"
    },
    "trusted": true
   },
   "outputs": [
    {
     "name": "stdout",
     "output_type": "stream",
     "text": [
      "Requirement already satisfied: unstructured==0.7.12 in /opt/conda/lib/python3.10/site-packages (0.7.12)\n",
      "Requirement already satisfied: argilla in /opt/conda/lib/python3.10/site-packages (from unstructured==0.7.12) (1.16.0)\n",
      "Requirement already satisfied: chardet in /opt/conda/lib/python3.10/site-packages (from unstructured==0.7.12) (5.2.0)\n",
      "Requirement already satisfied: filetype in /opt/conda/lib/python3.10/site-packages (from unstructured==0.7.12) (1.2.0)\n",
      "Requirement already satisfied: lxml in /opt/conda/lib/python3.10/site-packages (from unstructured==0.7.12) (4.9.3)\n",
      "Requirement already satisfied: msg-parser in /opt/conda/lib/python3.10/site-packages (from unstructured==0.7.12) (1.2.0)\n",
      "Requirement already satisfied: nltk in /opt/conda/lib/python3.10/site-packages (from unstructured==0.7.12) (3.2.4)\n",
      "Requirement already satisfied: openpyxl in /opt/conda/lib/python3.10/site-packages (from unstructured==0.7.12) (3.1.2)\n",
      "Requirement already satisfied: pandas in /opt/conda/lib/python3.10/site-packages (from unstructured==0.7.12) (1.5.3)\n",
      "Requirement already satisfied: pdf2image in /opt/conda/lib/python3.10/site-packages (from unstructured==0.7.12) (1.16.3)\n",
      "Requirement already satisfied: pdfminer.six in /opt/conda/lib/python3.10/site-packages (from unstructured==0.7.12) (20221105)\n",
      "Requirement already satisfied: pillow in /opt/conda/lib/python3.10/site-packages (from unstructured==0.7.12) (9.5.0)\n",
      "Requirement already satisfied: pypandoc in /opt/conda/lib/python3.10/site-packages (from unstructured==0.7.12) (1.11)\n",
      "Requirement already satisfied: python-docx in /opt/conda/lib/python3.10/site-packages (from unstructured==0.7.12) (0.8.11)\n",
      "Requirement already satisfied: python-pptx in /opt/conda/lib/python3.10/site-packages (from unstructured==0.7.12) (0.6.22)\n",
      "Requirement already satisfied: python-magic in /opt/conda/lib/python3.10/site-packages (from unstructured==0.7.12) (0.4.27)\n",
      "Requirement already satisfied: markdown in /opt/conda/lib/python3.10/site-packages (from unstructured==0.7.12) (3.4.3)\n",
      "Requirement already satisfied: requests in /opt/conda/lib/python3.10/site-packages (from unstructured==0.7.12) (2.31.0)\n",
      "Requirement already satisfied: tabulate in /opt/conda/lib/python3.10/site-packages (from unstructured==0.7.12) (0.9.0)\n",
      "Requirement already satisfied: xlrd in /opt/conda/lib/python3.10/site-packages (from unstructured==0.7.12) (2.0.1)\n",
      "Requirement already satisfied: httpx<0.24,>=0.15 in /opt/conda/lib/python3.10/site-packages (from argilla->unstructured==0.7.12) (0.23.3)\n",
      "Requirement already satisfied: deprecated~=1.2.0 in /opt/conda/lib/python3.10/site-packages (from argilla->unstructured==0.7.12) (1.2.14)\n",
      "Requirement already satisfied: packaging>=20.0 in /opt/conda/lib/python3.10/site-packages (from argilla->unstructured==0.7.12) (21.3)\n",
      "Requirement already satisfied: pydantic<2.0,>=1.10.7 in /opt/conda/lib/python3.10/site-packages (from argilla->unstructured==0.7.12) (1.10.9)\n",
      "Requirement already satisfied: wrapt<1.15,>=1.13 in /opt/conda/lib/python3.10/site-packages (from argilla->unstructured==0.7.12) (1.14.1)\n",
      "Requirement already satisfied: numpy<1.24.0 in /opt/conda/lib/python3.10/site-packages (from argilla->unstructured==0.7.12) (1.23.5)\n",
      "Requirement already satisfied: tqdm>=4.27.0 in /opt/conda/lib/python3.10/site-packages (from argilla->unstructured==0.7.12) (4.66.1)\n",
      "Requirement already satisfied: backoff in /opt/conda/lib/python3.10/site-packages (from argilla->unstructured==0.7.12) (2.2.1)\n",
      "Requirement already satisfied: monotonic in /opt/conda/lib/python3.10/site-packages (from argilla->unstructured==0.7.12) (1.6)\n",
      "Requirement already satisfied: rich!=13.1.0 in /opt/conda/lib/python3.10/site-packages (from argilla->unstructured==0.7.12) (13.4.2)\n",
      "Requirement already satisfied: typer<0.8.0,>=0.6.0 in /opt/conda/lib/python3.10/site-packages (from argilla->unstructured==0.7.12) (0.7.0)\n",
      "Requirement already satisfied: python-dateutil>=2.8.1 in /opt/conda/lib/python3.10/site-packages (from pandas->unstructured==0.7.12) (2.8.2)\n",
      "Requirement already satisfied: pytz>=2020.1 in /opt/conda/lib/python3.10/site-packages (from pandas->unstructured==0.7.12) (2023.3)\n",
      "Requirement already satisfied: olefile>=0.46 in /opt/conda/lib/python3.10/site-packages (from msg-parser->unstructured==0.7.12) (0.46)\n",
      "Requirement already satisfied: six in /opt/conda/lib/python3.10/site-packages (from nltk->unstructured==0.7.12) (1.16.0)\n",
      "Requirement already satisfied: et-xmlfile in /opt/conda/lib/python3.10/site-packages (from openpyxl->unstructured==0.7.12) (1.1.0)\n",
      "Requirement already satisfied: charset-normalizer>=2.0.0 in /opt/conda/lib/python3.10/site-packages (from pdfminer.six->unstructured==0.7.12) (3.1.0)\n",
      "Requirement already satisfied: cryptography>=36.0.0 in /opt/conda/lib/python3.10/site-packages (from pdfminer.six->unstructured==0.7.12) (38.0.4)\n",
      "Requirement already satisfied: XlsxWriter>=0.5.7 in /opt/conda/lib/python3.10/site-packages (from python-pptx->unstructured==0.7.12) (3.1.4)\n",
      "Requirement already satisfied: idna<4,>=2.5 in /opt/conda/lib/python3.10/site-packages (from requests->unstructured==0.7.12) (3.4)\n",
      "Requirement already satisfied: urllib3<3,>=1.21.1 in /opt/conda/lib/python3.10/site-packages (from requests->unstructured==0.7.12) (1.26.15)\n",
      "Requirement already satisfied: certifi>=2017.4.17 in /opt/conda/lib/python3.10/site-packages (from requests->unstructured==0.7.12) (2023.7.22)\n",
      "Requirement already satisfied: cffi>=1.12 in /opt/conda/lib/python3.10/site-packages (from cryptography>=36.0.0->pdfminer.six->unstructured==0.7.12) (1.15.1)\n",
      "Requirement already satisfied: httpcore<0.17.0,>=0.15.0 in /opt/conda/lib/python3.10/site-packages (from httpx<0.24,>=0.15->argilla->unstructured==0.7.12) (0.16.3)\n",
      "Requirement already satisfied: rfc3986[idna2008]<2,>=1.3 in /opt/conda/lib/python3.10/site-packages (from httpx<0.24,>=0.15->argilla->unstructured==0.7.12) (1.5.0)\n",
      "Requirement already satisfied: sniffio in /opt/conda/lib/python3.10/site-packages (from httpx<0.24,>=0.15->argilla->unstructured==0.7.12) (1.3.0)\n",
      "Requirement already satisfied: pyparsing!=3.0.5,>=2.0.2 in /opt/conda/lib/python3.10/site-packages (from packaging>=20.0->argilla->unstructured==0.7.12) (3.0.9)\n",
      "Requirement already satisfied: typing-extensions>=4.2.0 in /opt/conda/lib/python3.10/site-packages (from pydantic<2.0,>=1.10.7->argilla->unstructured==0.7.12) (4.6.3)\n",
      "Requirement already satisfied: markdown-it-py>=2.2.0 in /opt/conda/lib/python3.10/site-packages (from rich!=13.1.0->argilla->unstructured==0.7.12) (2.2.0)\n",
      "Requirement already satisfied: pygments<3.0.0,>=2.13.0 in /opt/conda/lib/python3.10/site-packages (from rich!=13.1.0->argilla->unstructured==0.7.12) (2.15.1)\n",
      "Requirement already satisfied: click<9.0.0,>=7.1.1 in /opt/conda/lib/python3.10/site-packages (from typer<0.8.0,>=0.6.0->argilla->unstructured==0.7.12) (8.1.7)\n",
      "Requirement already satisfied: pycparser in /opt/conda/lib/python3.10/site-packages (from cffi>=1.12->cryptography>=36.0.0->pdfminer.six->unstructured==0.7.12) (2.21)\n",
      "Requirement already satisfied: h11<0.15,>=0.13 in /opt/conda/lib/python3.10/site-packages (from httpcore<0.17.0,>=0.15.0->httpx<0.24,>=0.15->argilla->unstructured==0.7.12) (0.14.0)\n",
      "Requirement already satisfied: anyio<5.0,>=3.0 in /opt/conda/lib/python3.10/site-packages (from httpcore<0.17.0,>=0.15.0->httpx<0.24,>=0.15->argilla->unstructured==0.7.12) (3.7.0)\n",
      "Requirement already satisfied: mdurl~=0.1 in /opt/conda/lib/python3.10/site-packages (from markdown-it-py>=2.2.0->rich!=13.1.0->argilla->unstructured==0.7.12) (0.1.2)\n",
      "Requirement already satisfied: exceptiongroup in /opt/conda/lib/python3.10/site-packages (from anyio<5.0,>=3.0->httpcore<0.17.0,>=0.15.0->httpx<0.24,>=0.15->argilla->unstructured==0.7.12) (1.1.1)\n"
     ]
    }
   ],
   "source": [
    "!pip install unstructured==0.7.12\n"
   ]
  },
  {
   "cell_type": "code",
   "execution_count": 14,
   "metadata": {
    "execution": {
     "iopub.execute_input": "2023-09-21T18:49:51.877263Z",
     "iopub.status.busy": "2023-09-21T18:49:51.876962Z",
     "iopub.status.idle": "2023-09-21T18:49:51.881912Z",
     "shell.execute_reply": "2023-09-21T18:49:51.880945Z",
     "shell.execute_reply.started": "2023-09-21T18:49:51.877237Z"
    },
    "trusted": true
   },
   "outputs": [],
   "source": [
    "embeddings = OpenAIEmbeddings()"
   ]
  },
  {
   "cell_type": "code",
   "execution_count": 15,
   "metadata": {
    "execution": {
     "iopub.execute_input": "2023-09-21T18:49:51.883341Z",
     "iopub.status.busy": "2023-09-21T18:49:51.883133Z",
     "iopub.status.idle": "2023-09-21T18:49:53.062882Z",
     "shell.execute_reply": "2023-09-21T18:49:53.061783Z",
     "shell.execute_reply.started": "2023-09-21T18:49:51.883322Z"
    },
    "trusted": true
   },
   "outputs": [],
   "source": [
    "law_fields_loader = UnstructuredFileLoader('/kaggle/input/law-fields/LawFields.pdf')\n",
    "docs = law_fields_loader.load()\n",
    "\n",
    "text_splitter = RecursiveCharacterTextSplitter(\n",
    "    chunk_size=500,\n",
    "    chunk_overlap=100,\n",
    ")\n",
    "\n",
    "documents = text_splitter.split_documents(docs)\n",
    "\n",
    "law_fields_vectorstore = FAISS.from_documents(documents, embeddings)\n",
    "\n",
    "with open(\"law_fields_vectorstore.pkl\", \"wb\") as f:\n",
    "    pickle.dump(law_fields_vectorstore, f)"
   ]
  },
  {
   "cell_type": "code",
   "execution_count": 16,
   "metadata": {
    "execution": {
     "iopub.execute_input": "2023-09-21T18:49:53.065732Z",
     "iopub.status.busy": "2023-09-21T18:49:53.065413Z",
     "iopub.status.idle": "2023-09-21T18:49:56.002149Z",
     "shell.execute_reply": "2023-09-21T18:49:56.000947Z",
     "shell.execute_reply.started": "2023-09-21T18:49:53.065706Z"
    },
    "trusted": true
   },
   "outputs": [],
   "source": [
    "indian_penal_code_loader = UnstructuredFileLoader('/kaggle/input/consumercourt/ConsumerCourt.pdf')\n",
    "docs = indian_penal_code_loader.load()\n",
    "\n",
    "text_splitter = RecursiveCharacterTextSplitter(\n",
    "    chunk_size=500,\n",
    "    chunk_overlap=100,\n",
    ")\n",
    "\n",
    "documents = text_splitter.split_documents(docs)\n",
    "\n",
    "indian_penal_code_vectorstore = FAISS.from_documents(documents, embeddings)\n",
    "\n",
    "with open(\"indian_penal_code_vectorstore.pkl\", \"wb\") as f:\n",
    "    pickle.dump(indian_penal_code_vectorstore, f)"
   ]
  },
  {
   "cell_type": "code",
   "execution_count": 17,
   "metadata": {
    "execution": {
     "iopub.execute_input": "2023-09-21T18:49:56.003754Z",
     "iopub.status.busy": "2023-09-21T18:49:56.003425Z",
     "iopub.status.idle": "2023-09-21T18:50:05.957062Z",
     "shell.execute_reply": "2023-09-21T18:50:05.956095Z",
     "shell.execute_reply.started": "2023-09-21T18:49:56.003725Z"
    },
    "trusted": true
   },
   "outputs": [],
   "source": [
    "consumer_protection_act_loader = UnstructuredFileLoader('/kaggle/input/consumerprotectionact2019/consumer_protection_act_2019.pdf')\n",
    "docs = consumer_protection_act_loader.load()\n",
    "\n",
    "text_splitter = RecursiveCharacterTextSplitter(\n",
    "    chunk_size=500,\n",
    "    chunk_overlap=100,\n",
    ")\n",
    "\n",
    "documents = text_splitter.split_documents(docs)\n",
    "\n",
    "consumer_protection_act_vectorstore = FAISS.from_documents(documents, embeddings)\n",
    "\n",
    "with open(\"consumer_protection_act_vectorstore.pkl\", \"wb\") as f:\n",
    "    pickle.dump(consumer_protection_act_vectorstore, f)"
   ]
  },
  {
   "cell_type": "code",
   "execution_count": 18,
   "metadata": {
    "execution": {
     "iopub.execute_input": "2023-09-21T18:50:05.958860Z",
     "iopub.status.busy": "2023-09-21T18:50:05.958531Z",
     "iopub.status.idle": "2023-09-21T18:50:05.963596Z",
     "shell.execute_reply": "2023-09-21T18:50:05.962190Z",
     "shell.execute_reply.started": "2023-09-21T18:50:05.958833Z"
    },
    "trusted": true
   },
   "outputs": [],
   "source": [
    "from langchain.chat_models import ChatOpenAI\n",
    "llm_model = \"gpt-3.5-turbo\"\n",
    "llm = ChatOpenAI(temperature = 0.0, model=llm_model)"
   ]
  },
  {
   "cell_type": "code",
   "execution_count": 19,
   "metadata": {
    "execution": {
     "iopub.execute_input": "2023-09-21T18:50:05.965047Z",
     "iopub.status.busy": "2023-09-21T18:50:05.964715Z",
     "iopub.status.idle": "2023-09-21T18:50:05.980317Z",
     "shell.execute_reply": "2023-09-21T18:50:05.979090Z",
     "shell.execute_reply.started": "2023-09-21T18:50:05.965019Z"
    },
    "trusted": true
   },
   "outputs": [],
   "source": [
    "def LawType(query):\n",
    "    \n",
    "    #prompt for classifying into types\n",
    "    law_type_template = \"\"\"\n",
    "    You are an assistant who is an expert in understanding law and interpreting language related to law. The user has a problem\n",
    "    which they describe in a situation. You are to use the information context given to you to determine which type of law their\n",
    "    problem falls under. \n",
    "    \n",
    "    The output must ONLY be the name of law type that it is most likely to fall under.\n",
    "    \n",
    "    Mention only one law type.\n",
    "    \n",
    "    Hence outputs will most often be 2-3 words long and always be less than 5 words long. Do not say anything else.\n",
    "    \n",
    "    The information context: {context}\n",
    "\n",
    "    Do NOT assume more information than what the situation and ground truth information gives you. \n",
    "    \n",
    "    You are not required to do anything more than provide the relevant information as described.\n",
    "    \n",
    "    Do NOT give suggestion on how to solve the problem. ONLY categorize it on the information available.\n",
    "    \n",
    "    Be sure to NOT give the wrong classification.\n",
    "\n",
    "    User's problem/situation: {question}\n",
    "    \"\"\"\n",
    "    law_template = PromptTemplate(\n",
    "        template=law_type_template, input_variables=[\"context\", \"question\"]\n",
    "    )\n",
    "    \n",
    "    #Actual LLM chain that does classification (RetrievalQA)\n",
    "    \n",
    "    qa = RetrievalQA.from_chain_type(\n",
    "        llm=llm,\n",
    "        chain_type=\"stuff\",\n",
    "        retriever=law_fields_vectorstore.as_retriever(),\n",
    "        chain_type_kwargs={\"prompt\": law_template},\n",
    "        #output_key=\"description\"\n",
    "    ) \n",
    "    \n",
    "    #law_type = chain.run()\n",
    "    \n",
    "    law_type = qa.run(query).lower()\n",
    "    \n",
    "    return law_type "
   ]
  },
  {
   "cell_type": "code",
   "execution_count": 20,
   "metadata": {
    "execution": {
     "iopub.execute_input": "2023-09-21T18:50:08.674860Z",
     "iopub.status.busy": "2023-09-21T18:50:08.674545Z",
     "iopub.status.idle": "2023-09-21T18:50:08.679568Z",
     "shell.execute_reply": "2023-09-21T18:50:08.678622Z",
     "shell.execute_reply.started": "2023-09-21T18:50:08.674836Z"
    },
    "trusted": true
   },
   "outputs": [],
   "source": [
    "query = '''\n",
    "I recieved spoiled milk and I got very sick. The provider is not accepting responsibility.\n",
    "'''\n",
    "##Exception case: What if i had the milk later and want to still blame the provider- convo to get this info possible also more\n",
    "#selective prompts to mention exception cases"
   ]
  },
  {
   "cell_type": "code",
   "execution_count": null,
   "metadata": {
    "execution": {
     "iopub.status.busy": "2023-09-21T18:45:56.497841Z",
     "iopub.status.idle": "2023-09-21T18:45:56.498329Z",
     "shell.execute_reply": "2023-09-21T18:45:56.498198Z",
     "shell.execute_reply.started": "2023-09-21T18:45:56.498183Z"
    },
    "trusted": true
   },
   "outputs": [],
   "source": [
    "#criminal law- indian penal code , criminal procedure code "
   ]
  },
  {
   "cell_type": "code",
   "execution_count": 21,
   "metadata": {
    "execution": {
     "iopub.execute_input": "2023-09-21T18:50:10.646838Z",
     "iopub.status.busy": "2023-09-21T18:50:10.646485Z",
     "iopub.status.idle": "2023-09-21T18:50:10.653171Z",
     "shell.execute_reply": "2023-09-21T18:50:10.652414Z",
     "shell.execute_reply.started": "2023-09-21T18:50:10.646811Z"
    },
    "trusted": true
   },
   "outputs": [],
   "source": [
    "def CriminalLaw(query):\n",
    "    \n",
    "    #prompt for defining nature of situation- formal name for type of felony/crime/injustice\n",
    "    \n",
    "    crimina_law_template = \"\"\"\n",
    "    You are an assistant who is an expert in understanding law and interpreting language related to law. The user has a problem\n",
    "    which they describe in a situation. You are to use the given document information context that includes information on\n",
    "    criminal law and it's various aspects in detail, and using that determine the type of felony or crime or injustice that is \n",
    "    in play in the user given situation.\n",
    "    \n",
    "    The information context: {context}\n",
    "\n",
    "    Do NOT assume more information than what the situation and ground truth information gives you. \n",
    "    \n",
    "    You are not required to do anything more than provide the relevant information as described.\n",
    "    \n",
    "    Do NOT give suggestion on how to solve the problem. ONLY categorize it on the information available.\n",
    "    \n",
    "    Be sure to NOT give the wrong classification.\n",
    "\n",
    "    User's problem/situation: {question}\n",
    "    \"\"\"\n",
    "    criminal_law_template = PromptTemplate(\n",
    "        template=criminal_type_template, input_variables=[\"context\", \"question\"]\n",
    "    )\n",
    "    \n",
    "    qa = RetrievalQA.from_chain_type(\n",
    "        llm=llm,\n",
    "        chain_type=\"stuff\",\n",
    "        retriever=consumercourt_vectorstore.as_retriever(),\n",
    "        chain_type_kwargs={\"prompt\": law_type_template},\n",
    "        #output_key=\"description\"\n",
    "    ) \n",
    "    \n",
    "    \n",
    "    #Actual LLM chain that does output generation (RetrievalQA) (IPC)\n",
    "    \n",
    "    #Description = chain.run()\n",
    "    \n",
    "    #prompt for using description to produce relevant procedures that might be required (RetrievalQA) (CrPC)\n",
    "    \n",
    "    #Procedure = chain.run()\n",
    "    \n",
    "    #info = Description + Procedure \n",
    "    \n",
    "    return info "
   ]
  },
  {
   "cell_type": "code",
   "execution_count": 22,
   "metadata": {
    "execution": {
     "iopub.execute_input": "2023-09-21T18:50:10.956986Z",
     "iopub.status.busy": "2023-09-21T18:50:10.956183Z",
     "iopub.status.idle": "2023-09-21T18:50:10.962293Z",
     "shell.execute_reply": "2023-09-21T18:50:10.961728Z",
     "shell.execute_reply.started": "2023-09-21T18:50:10.956958Z"
    },
    "trusted": true
   },
   "outputs": [],
   "source": [
    "def ConsumerLaw(query):\n",
    "    \n",
    "    #prompt for defining nature of situation- formal name for type of felony/crime/injustice \n",
    "    consumer_law_template = \"\"\"\n",
    "    You are an assistant who is an expert in understanding law and interpreting language related to law. The user has a problem\n",
    "    which they describe in a situation. \n",
    "        \n",
    "    You are to give the top 3 laws from the context which you think apply to this situation. Consider the WHOLE context as best u can. Cite the particular law as per the document context given\n",
    "    each accompanied by a corresponding probability indicating your confidence level for that guess(expressed as a percentage from 0% to 100%).\n",
    "    And they MUST SUM UP TO 100%. IT SHOULD NOT SUM UP TO OVER 100%\n",
    "    \n",
    "    THE LAW CANNOT BE AN ENTIRE SECTION, BUT MUST BE OF THE FORMAT: SECTION X(number)(letter) to increase specificity.\n",
    "    \n",
    "    FOR ONLY THE PARTICULAR LAW WITH HIGHEST CONFIDENCE, EXPLAIN WHY YOUR CONFIDENCE IS NOT EVEN HIGHER FOR IT. IDENTIFY IN PARTICULAR\n",
    "    POINTS OF AMBIGUITY WHICH CREATE THE CONFUSION AND EXPLAIN THOSE POINTS. Do not just say there may be additional factors and circumstances\n",
    "    or such, MENTION SPECIFICALLY SUCH FACTORS AND CIRCUMSTANCES. Do not explain the other less confident laws, only the most confident one.\n",
    "    \n",
    "    REMEMBER EXPLAIN ONLY THE LAW FOR WHICH YOU HAVE THE HIGHEST CONFIDENCE PERCENTAGE.\n",
    "    \n",
    "    THE IDEA IS FOR YOU TO MEASURE YOUR UNCERTAINTY AND IDENTIFY THE AMBIGUITY, AND USE THAT TO ASK THE USER QUESTIONS.\n",
    "    \n",
    "    The format must be:\n",
    "    \"Law citation: Percentage\" \n",
    "    \n",
    "    The document information context: {context}\n",
    "\n",
    "    Do NOT assume more information than what the situation and document information context gives you. \n",
    "    \n",
    "    You are not required to do anything more than provide the relevant information as described.\n",
    "    \n",
    "    User's problem/situation: {question}\n",
    "    \"\"\"\n",
    "    law_template = PromptTemplate(\n",
    "        template=consumer_law_template, input_variables=[\"context\", \"question\"]\n",
    "    )\n",
    "    \n",
    "    #Actual LLM chain that does output generation (RetrievalQA)\n",
    "    \n",
    "    qa = RetrievalQA.from_chain_type(\n",
    "        llm=llm,\n",
    "        chain_type=\"stuff\",\n",
    "        retriever=consumer_protection_act_vectorstore.as_retriever(),\n",
    "        chain_type_kwargs={\"prompt\": law_template},\n",
    "        return_source_documents = False,\n",
    "        #output_key=\"description\"\n",
    "    )     \n",
    "    \n",
    "    description = qa(query)   #query, result, source_document\n",
    "    \n",
    "    return description\n",
    "    "
   ]
  },
  {
   "cell_type": "code",
   "execution_count": 23,
   "metadata": {
    "execution": {
     "iopub.execute_input": "2023-09-21T18:50:11.521951Z",
     "iopub.status.busy": "2023-09-21T18:50:11.521417Z",
     "iopub.status.idle": "2023-09-21T18:50:11.527154Z",
     "shell.execute_reply": "2023-09-21T18:50:11.526294Z",
     "shell.execute_reply.started": "2023-09-21T18:50:11.521924Z"
    },
    "trusted": true
   },
   "outputs": [],
   "source": [
    "def QuestionGenerator(llm_output):\n",
    "    \n",
    "\n",
    "    \n",
    "    template = \"\"\"\n",
    "    There is a three step process to serve the user:\n",
    "    Agent 1 creates analysis of a situation. \n",
    "    Agent 2 frames a question from this analysis to ask the user. YOU ARE AGENT 2.\n",
    "    The user answers the question\n",
    "    \n",
    "    You are an analyst who can understand issues well and is an expert in law.\n",
    "    \n",
    "    You are given three laws along with confidence percentage for each, and explains why their confidence is not even higher for it. \n",
    "    Your goal is to phrase a question, to ask the user, that if answered, will help in solving the issue mentioned as per the explanation.\n",
    "    Remember that the user is not an expert in law, so phrase your question in a simple way while still achieving your goal.\n",
    "    Avoid using complicated terms, and instead use more simpler words if needed. Your question must be as direct and specific as possible.\n",
    "    \n",
    "    Note: Address the user/human directly as \"you\" as if you were in conversation with them. The consumer in this situation is also the user.\n",
    "    \n",
    "    Note: Always make sure the question is within \"\"\n",
    "    \n",
    "    Note: Do not mention any of what agent 1 says, just frame a direct question for the user. \n",
    "    \n",
    "    input: {input}\n",
    "    \"\"\"\n",
    "    \n",
    "    prompt = PromptTemplate(\n",
    "        template = template,\n",
    "        input_variables = ['input'],\n",
    "        #partial_variables = {\"da_info\":da_info}\n",
    "    )\n",
    "    \n",
    "    llm_chain = LLMChain(llm=llm, prompt=prompt)\n",
    "    \n",
    "    final_output = llm_chain.run(str(llm_output))\n",
    "                                 \n",
    "    return final_output\n",
    "    "
   ]
  },
  {
   "cell_type": "code",
   "execution_count": 24,
   "metadata": {
    "execution": {
     "iopub.execute_input": "2023-09-21T18:50:11.897949Z",
     "iopub.status.busy": "2023-09-21T18:50:11.897620Z",
     "iopub.status.idle": "2023-09-21T18:50:11.903721Z",
     "shell.execute_reply": "2023-09-21T18:50:11.902888Z",
     "shell.execute_reply.started": "2023-09-21T18:50:11.897924Z"
    },
    "trusted": true
   },
   "outputs": [],
   "source": [
    "#IF ELSE BLOCK THAT PUTS INTO DIFF CHAINS? \n",
    "\n",
    "def ChainSelector(law_type,query):\n",
    "     \n",
    "    \n",
    "    if(law_type == \"criminal law\"):\n",
    "        \n",
    "        description = CriminalLaw(query)\n",
    "        \n",
    "    elif(law_type == \"consumer protection law\"):\n",
    "\n",
    "        description = ConsumerLaw(query)\n",
    "        source_documents = \"ConsumerCourt PDF from https://consumerhelpline.gov.in/ConsumerCourt.pdf\" #change to consumer protection act 2019 \n",
    "        \n",
    "    else:\n",
    "        \n",
    "        description = \"The law type is: \" + str(law_type)\n",
    "        \n",
    "    #print(\"Source document is: \" + source_documents)\n",
    "    #print(\"\")\n",
    "    #sources = []\n",
    "    #or doc in description['source_documents']:\n",
    "        #sources.append(doc.page_content)\n",
    "    return description, source_documents"
   ]
  },
  {
   "cell_type": "code",
   "execution_count": 25,
   "metadata": {
    "execution": {
     "iopub.execute_input": "2023-09-21T18:50:12.325656Z",
     "iopub.status.busy": "2023-09-21T18:50:12.325325Z",
     "iopub.status.idle": "2023-09-21T18:50:12.335107Z",
     "shell.execute_reply": "2023-09-21T18:50:12.334368Z",
     "shell.execute_reply.started": "2023-09-21T18:50:12.325631Z"
    },
    "trusted": true
   },
   "outputs": [],
   "source": [
    "#InfoSourceSelector\n",
    "\n",
    "def QuestionClassifier(question):\n",
    "    \n",
    "    #simple LLMChain that decides between search type and user query type\n",
    "    \n",
    "    template = \"\"\"\n",
    "    Given to you as input is a question, or a sentence/paragraph that is questioning in nature.\n",
    "    \n",
    "    You are an expert in understanding language and requirements. Your goal is to analyse the given input\n",
    "    and to classify it into either the \"search type\" or the \"user query type\".\n",
    "    \n",
    "    search type: Deals with theoretical concerns in a situation. Like legal responsibility/liability.These kinds of questions\n",
    "    tend to be factual in nature and inquire about the natural characteristics, like how products, materials, laws behave, what\n",
    "    are the definitions of terms, whether certain entities belong to certain classifications. \n",
    "    \n",
    "    user query type: Deals with the practical details relating to actions and events. Questions that specific to a particular situation faced by a person and can therefore ONLY\n",
    "    be answered by them. Deals with ownership/origin of entities in the situation. \n",
    "    \n",
    "    You are to output either \"search type\" OR \"user query type\" based on whichever classification you think is right.\n",
    "        \n",
    "    input: {input}\n",
    "    \"\"\"\n",
    "    \n",
    "    prompt = PromptTemplate(\n",
    "        template = template,\n",
    "        input_variables = ['input'],\n",
    "    )\n",
    "    \n",
    "    llm_chain = LLMChain(llm=llm, prompt=prompt)\n",
    "    \n",
    "    final_output = str(llm_chain.run(question))\n",
    "    details = final_output\n",
    "    \n",
    "    #if search type\n",
    "    #if  final_output == \"search type\":\n",
    "    if \"search type\" in final_output:\n",
    "        #searchChain\n",
    "        \n",
    "        template = \"\"\"\n",
    "        Based on the situation given in the input, identify the core issue behind it, and phrase a simple question,\n",
    "        that if performed a google search upon, will result in facts that answer the question. To this end identify things\n",
    "        like the core entity/object/relationship and phrase your question around those. Output the question.\n",
    "        ALSO ANSWER YOUR QUESTION. GIVE A DIRECT ANSWER. \n",
    "        input: {input}\n",
    "        \"\"\"    \n",
    "        prompt = PromptTemplate(\n",
    "            template = template,\n",
    "            input_variables = ['input'],\n",
    "        )\n",
    "    \n",
    "        llm_chain = LLMChain(llm=llm, prompt=prompt)\n",
    "    \n",
    "        question = llm_chain.run(question)    \n",
    "        \n",
    "        \n",
    "        \n",
    "        sections = question.split(\"Answer:\")\n",
    "        details = sections[1].strip()\n",
    "        #print(\"Answer:\", details)\n",
    "       \n",
    "    #else if user query type\n",
    "    elif final_output == \"user query type\":\n",
    "        print(question)\n",
    "        details = input(\"Enter your response: \")\n",
    "    \n",
    "    return details"
   ]
  },
  {
   "cell_type": "code",
   "execution_count": null,
   "metadata": {
    "execution": {
     "iopub.execute_input": "2023-09-21T17:45:04.736488Z",
     "iopub.status.busy": "2023-09-21T17:45:04.736047Z",
     "iopub.status.idle": "2023-09-21T17:45:04.745830Z",
     "shell.execute_reply": "2023-09-21T17:45:04.744726Z",
     "shell.execute_reply.started": "2023-09-21T17:45:04.736452Z"
    },
    "jupyter": {
     "source_hidden": true
    },
    "trusted": true
   },
   "outputs": [],
   "source": [
    "'''\n",
    "question1 = \"Did you purchase the milk yourself or was it provided by your employer for use at the workplace?\"\n",
    "\n",
    "question2 = \"According to one of the laws that apply to this situation, if the spoiled milk was a product that required expert handling or supervision, and the manufacturer provided adequate warnings or instructions to experts, they may not be held responsible for any harm caused. Can you provide any information about whether the spoiled milk falls under the category of a product that is legally meant to be used or dispensed only by or under the supervision of an expert or a class of experts, and whether the manufacturer provided warnings or instructions to such experts?\"\n",
    "\n",
    "question3 = \n",
    "\n",
    "details = QuestionClassifier(question1)\n",
    "'''"
   ]
  },
  {
   "cell_type": "code",
   "execution_count": 26,
   "metadata": {
    "execution": {
     "iopub.execute_input": "2023-09-21T18:50:13.934354Z",
     "iopub.status.busy": "2023-09-21T18:50:13.934008Z",
     "iopub.status.idle": "2023-09-21T18:51:42.861982Z",
     "shell.execute_reply": "2023-09-21T18:51:42.861305Z",
     "shell.execute_reply.started": "2023-09-21T18:50:13.934318Z"
    },
    "trusted": true
   },
   "outputs": [
    {
     "name": "stdout",
     "output_type": "stream",
     "text": [
      "Enter your situation:  I recieved spoiled milk and I got very sick. The provider is not accepting responsibility.\n"
     ]
    },
    {
     "name": "stdout",
     "output_type": "stream",
     "text": [
      "\"Did you purchase the spoiled milk for use at your workplace?\"\n"
     ]
    },
    {
     "name": "stdout",
     "output_type": "stream",
     "text": [
      "Enter your response:  no I bought it for personal use.\n"
     ]
    },
    {
     "name": "stdout",
     "output_type": "stream",
     "text": [
      "\"To gather more information and clarify the situation, can you please confirm whether you consumed the milk after its expiration date?\"\n"
     ]
    },
    {
     "name": "stdout",
     "output_type": "stream",
     "text": [
      "Enter your response:  No I did not.\n"
     ]
    }
   ],
   "source": [
    "def FeedbackLoop():\n",
    "    \n",
    "    query = input(\"Enter your situation: \")\n",
    "    count = 0\n",
    "    while(count != 3):\n",
    "        law = LawType(query)  \n",
    "        analysis, source_documents = ChainSelector(law,query)\n",
    "        question = QuestionGenerator(analysis)\n",
    "        details = QuestionClassifier(question)\n",
    "        query = query + f\"\\n additional details: {details}\" #direct input into query method- also try partial variable method?\n",
    "        count = count + 1 #whichever happens first- 100% or count of 3 \n",
    "    return query, analysis  #gotta implement another chain selector man\n",
    "\n",
    "query, analysis = FeedbackLoop()"
   ]
  },
  {
   "cell_type": "code",
   "execution_count": 28,
   "metadata": {
    "collapsed": true,
    "execution": {
     "iopub.execute_input": "2023-09-21T18:52:05.129917Z",
     "iopub.status.busy": "2023-09-21T18:52:05.129525Z",
     "iopub.status.idle": "2023-09-21T18:52:05.135160Z",
     "shell.execute_reply": "2023-09-21T18:52:05.134011Z",
     "shell.execute_reply.started": "2023-09-21T18:52:05.129892Z"
    },
    "jupyter": {
     "outputs_hidden": true
    },
    "trusted": true
   },
   "outputs": [
    {
     "name": "stdout",
     "output_type": "stream",
     "text": [
      "I recieved spoiled milk and I got very sick. The provider is not accepting responsibility.\n",
      " additional details: The question is asking for confirmation on whether the employer purchased the spoiled milk for use at the workplace and if the manufacturer provided any warnings or instructions regarding the milk.\n",
      " additional details: no I bought it for personal use.\n",
      " additional details: No I did not.\n"
     ]
    }
   ],
   "source": [
    "print(query)  #add the question to details too? as otherwise it doesnt add value to the end query\n"
   ]
  },
  {
   "cell_type": "code",
   "execution_count": 27,
   "metadata": {
    "execution": {
     "iopub.execute_input": "2023-09-21T18:51:58.876599Z",
     "iopub.status.busy": "2023-09-21T18:51:58.876244Z",
     "iopub.status.idle": "2023-09-21T18:51:58.882441Z",
     "shell.execute_reply": "2023-09-21T18:51:58.881097Z",
     "shell.execute_reply.started": "2023-09-21T18:51:58.876575Z"
    },
    "trusted": true
   },
   "outputs": [
    {
     "name": "stdout",
     "output_type": "stream",
     "text": [
      "{'query': 'I recieved spoiled milk and I got very sick. The provider is not accepting responsibility.\\n additional details: The question is asking for confirmation on whether the employer purchased the spoiled milk for use at the workplace and if the manufacturer provided any warnings or instructions regarding the milk.\\n additional details: no I bought it for personal use.', 'result': \"Based on the given information, the top 3 laws that may apply to this situation are:\\n\\n1. Section 86: Liability of product sellers - 70%\\n2. Section 32(b): Act of omission or commission or negligence - 20%\\n3. Section 2(a): Failure to provide adequate warnings or instructions - 10%\\n\\nExplanation for the law with the highest confidence level (Section 86: Liability of product sellers - 70%):\\n\\nThe law with the highest confidence level is Section 86, which states that a product seller who is not a product manufacturer shall be liable in a product liability action. In this case, since the user received spoiled milk and got sick, the product seller may be held responsible for the harm caused.\\n\\nHowever, the confidence level is not higher because there may be additional factors or circumstances that could affect the liability of the product seller. For example, if the user had consumed the milk after its expiration date or had mishandled it, the product seller may argue that the harm was caused by the user's misuse or alteration of the product. Without further information, it is difficult to determine the exact circumstances surrounding the purchase and use of the milk.\\n\\nTo clarify the situation and gather more information, it would be helpful to ask the user the following questions:\\n- Did you consume the milk after its expiration date?\\n- Did you mishandle or improperly store the milk?\\n- Did you alter or modify the milk in any way before consuming it?\\n- Did the product seller provide any warnings or instructions regarding the milk at the time of purchase?\"}\n"
     ]
    }
   ],
   "source": [
    "print(analysis)"
   ]
  },
  {
   "cell_type": "code",
   "execution_count": 29,
   "metadata": {
    "execution": {
     "iopub.execute_input": "2023-09-21T18:52:48.923648Z",
     "iopub.status.busy": "2023-09-21T18:52:48.923299Z",
     "iopub.status.idle": "2023-09-21T18:52:48.933438Z",
     "shell.execute_reply": "2023-09-21T18:52:48.932672Z",
     "shell.execute_reply.started": "2023-09-21T18:52:48.923613Z"
    },
    "trusted": true
   },
   "outputs": [],
   "source": [
    "# Set up a prompt template\n",
    "class CustomPromptTemplate(StringPromptTemplate):\n",
    "    # The template to use\n",
    "    template: str\n",
    "    # The list of tools available\n",
    "    tools: List[Tool]\n",
    "\n",
    "    def format(self, **kwargs) -> str:\n",
    "        # Get the intermediate steps (AgentAction, Observation tuples)\n",
    "        # Format them in a particular way\n",
    "        intermediate_steps = kwargs.pop(\"intermediate_steps\")\n",
    "        thoughts = \"\"\n",
    "        for action, observation in intermediate_steps:\n",
    "            thoughts += action.log\n",
    "            thoughts += f\"\\nObservation: {observation}\\nThought: \"\n",
    "        # Set the agent_scratchpad variable to that value\n",
    "        kwargs[\"agent_scratchpad\"] = thoughts\n",
    "        # Create a tools variable from the list of tools provided\n",
    "        kwargs[\"tools\"] = \"\\n\".join([f\"{tool.name}: {tool.description}\" for tool in self.tools])\n",
    "        # Create a list of tool names for the tools provided\n",
    "        kwargs[\"tool_names\"] = \", \".join([tool.name for tool in self.tools])\n",
    "        return self.template.format(**kwargs)"
   ]
  },
  {
   "cell_type": "code",
   "execution_count": 30,
   "metadata": {
    "execution": {
     "iopub.execute_input": "2023-09-21T18:52:49.315128Z",
     "iopub.status.busy": "2023-09-21T18:52:49.314092Z",
     "iopub.status.idle": "2023-09-21T18:52:49.323300Z",
     "shell.execute_reply": "2023-09-21T18:52:49.322565Z",
     "shell.execute_reply.started": "2023-09-21T18:52:49.315093Z"
    },
    "trusted": true
   },
   "outputs": [],
   "source": [
    "class CustomOutputParser(AgentOutputParser):\n",
    "\n",
    "    def parse(self, llm_output: str) -> Union[AgentAction, AgentFinish]:\n",
    "        # Check if agent should finish\n",
    "        if \"Final Answer:\" in llm_output:\n",
    "            return AgentFinish(\n",
    "                # Return values is generally always a dictionary with a single `output` key\n",
    "                # It is not recommended to try anything else at the moment :)\n",
    "                return_values={\"output\": llm_output.split(\"Final Answer:\")[-1].strip()},\n",
    "                log=llm_output,\n",
    "            )\n",
    "        # Parse out the action and action input\n",
    "        regex = r\"Action\\s*\\d*\\s*:(.*?)\\nAction\\s*\\d*\\s*Input\\s*\\d*\\s*:[\\s]*(.*)\"\n",
    "        match = re.search(regex, llm_output, re.DOTALL)\n",
    "        if not match:\n",
    "            raise OutputParserException(f\"Could not parse LLM output: `{llm_output}`\")\n",
    "        action = match.group(1).strip()\n",
    "        action_input = match.group(2)\n",
    "        # Return the action and action input\n",
    "        return AgentAction(tool=action, tool_input=action_input.strip(\" \").strip('\"'), log=llm_output)\n",
    "\n",
    "output_parser = CustomOutputParser()"
   ]
  },
  {
   "cell_type": "code",
   "execution_count": 31,
   "metadata": {
    "execution": {
     "iopub.execute_input": "2023-09-21T18:52:49.863510Z",
     "iopub.status.busy": "2023-09-21T18:52:49.862335Z",
     "iopub.status.idle": "2023-09-21T18:52:49.871950Z",
     "shell.execute_reply": "2023-09-21T18:52:49.870908Z",
     "shell.execute_reply.started": "2023-09-21T18:52:49.863463Z"
    },
    "trusted": true
   },
   "outputs": [],
   "source": [
    "def SolutionGenerator(query, law_type, description): #, sources, source_documents):\n",
    "\n",
    "    search = SerpAPIWrapper(serpapi_api_key='')\n",
    "    tools = [\n",
    "        Tool(\n",
    "            name=\"Intermediate Answer\",\n",
    "            func=search.run,\n",
    "            description='google search'\n",
    "        )\n",
    "    ]\n",
    "\n",
    "    template = \"\"\"\n",
    "    \n",
    "    You are an assistant who is an expert in understanding law and interpreting language related to law. The user has a problem\n",
    "    which they describe in a situation. The description of the situation has already been given to you, as well as the type of law involved.\n",
    "    \n",
    "    Type of law: {law_type}\n",
    "    \n",
    "    Description:{description}\n",
    "\n",
    "    Assume the user is based in India.\n",
    "    \n",
    "    Complete the objective as best you can. You have access to the following tools:\n",
    "\n",
    "    {tools}\n",
    "\n",
    "    Use the following format:\n",
    "\n",
    "    Question: the input question you must answer\n",
    "        \n",
    "    Thought: you should always think about what to do.\n",
    "    Action: the action to take, must be one of [{tool_names}].ALWAYS MAKE AN ACTION. \n",
    "    Action Input: the input to the action\n",
    "    Observation: the result of the action. \n",
    "    ... (this Thought/Action/Action Input/Observation can repeat N times)\n",
    "    Thought: I now know the final answer\n",
    "    Final Answer: the final answer to the original input question. \n",
    "\n",
    "    \n",
    "    Begin!\n",
    "\n",
    "    Question: {input} based on the summary given under the description.\n",
    "    {agent_scratchpad}\"\"\"\n",
    "    \n",
    "    prompt = CustomPromptTemplate(\n",
    "        template=template,\n",
    "        tools=tools,\n",
    "        # This omits the `agent_scratchpad`, `tools`, and `tool_names` variables because those are generated dynamically\n",
    "        # This includes the `intermediate_steps` variable because that is needed\n",
    "        input_variables=[\"input\", \"intermediate_steps\", \"law_type\", \"description\"],\n",
    "        #partial_variables={\"law_type\":law_type, \"description\":description}\n",
    "    )\n",
    "    \n",
    "    tool_names = [tool.name for tool in tools]\n",
    "    \n",
    "    llm_chain = LLMChain(llm=llm, prompt=prompt)\n",
    "    \n",
    "    agent = LLMSingleActionAgent(\n",
    "        llm_chain=llm_chain,\n",
    "        output_parser=output_parser,\n",
    "        stop=[\"\\nObservation:\"],\n",
    "        allowed_tools=tool_names,\n",
    "    )\n",
    "    \n",
    "    agent_executor = AgentExecutor.from_agent_and_tools(agent=agent, tools=tools, verbose=True, return_intermediate_steps=True)\n",
    "\n",
    "    response = agent_executor({\"input\":query, \"law_type\":law_type, \"description\":description})\n",
    "    \n",
    "    '''\n",
    "    log_values = []\n",
    "    for action in response[\"intermediate_steps\"]:\n",
    "        log_values.append(action[2])\n",
    "    \n",
    "    logs = str(log_values)\n",
    "    \n",
    "    template = \"\"\"\n",
    "    The given materials is {logs} {placeholder}\n",
    "    Compile and make an exhaustive summary of the facts and observations of the logs might understand all the relevant information\"\n",
    "    \"\"\"\n",
    "    \n",
    "    prompt = PromptTemplate(\n",
    "        template = template,\n",
    "        input_variables = ['placeholder'],\n",
    "        partial_variables = {\"logs\":logs}\n",
    "    )\n",
    "    \n",
    "    llm_chain = LLMChain(llm=llm, prompt=prompt)\n",
    "    \n",
    "    response = llm_chain.run(\"do\")\n",
    "    '''\n",
    "    return response "
   ]
  },
  {
   "cell_type": "code",
   "execution_count": 33,
   "metadata": {
    "execution": {
     "iopub.execute_input": "2023-09-21T18:53:08.070920Z",
     "iopub.status.busy": "2023-09-21T18:53:08.070623Z",
     "iopub.status.idle": "2023-09-21T18:53:28.681236Z",
     "shell.execute_reply": "2023-09-21T18:53:28.680509Z",
     "shell.execute_reply.started": "2023-09-21T18:53:08.070896Z"
    },
    "trusted": true
   },
   "outputs": [
    {
     "name": "stdout",
     "output_type": "stream",
     "text": [
      "\n",
      "\n",
      "\u001b[1m> Entering new AgentExecutor chain...\u001b[0m\n",
      "\u001b[32;1m\u001b[1;3mThought: To determine where the user should go and what they need for their case, we need to consider the laws and legal procedures related to consumer protection in India.\n",
      "\n",
      "Action: Intermediate Answer\n",
      "Action Input: \"consumer protection laws and procedures in India\"\u001b[0m\n",
      "\n",
      "Observation:\u001b[36;1m\u001b[1;3mProcedure to File Consumer Case Any consumer complaint relating to a good or service must be filed in writing with a District Forum by the consumer along with the fee. On receipt of a complaint, the District Forum may reject or approve the complaint, usually within 21 days from the date of complaint.\u001b[0m\n",
      "\u001b[32;1m\u001b[1;3mBased on the observation, it seems that the user should file a consumer complaint with the District Forum in India. \n",
      "\n",
      "Action: Intermediate Answer\n",
      "Action Input: \"how to file a consumer complaint in India\"\u001b[0m\n",
      "\n",
      "Observation:\u001b[36;1m\u001b[1;3mWhat is the procedure to file a complaint in the Consumer Court?\u001b[0m\n",
      "\u001b[32;1m\u001b[1;3mBased on the observation, it seems that the user should follow the procedure to file a complaint in the Consumer Court in India. \n",
      "\n",
      "Action: Intermediate Answer\n",
      "Action Input: \"procedure to file a complaint in the Consumer Court in India\"\u001b[0m\n",
      "\n",
      "Observation:\u001b[36;1m\u001b[1;3m{'type': 'organic_result', 'title': 'How to File a Case in Consumer Court?', 'source': 'Surendranath Evening College'}\u001b[0m\n",
      "\u001b[32;1m\u001b[1;3mBased on the observation, the user should follow the procedure outlined in the article titled \"How to File a Case in Consumer Court?\" from Surendranath Evening College to file a complaint in the Consumer Court in India.\n",
      "\n",
      "Action: Intermediate Answer\n",
      "Action Input: \"consumer protection laws in India\"\u001b[0m\n",
      "\n",
      "Observation:\u001b[36;1m\u001b[1;3mThe Consumer Protection Act, of 1986, gives protection to consumers against unfair trade practices by businesses. The act was passed after many complaints were received by various organisations regarding the unfair trade practices of certain companies which resulted in the loss of money and time for their customers.\u001b[0m\n",
      "\u001b[32;1m\u001b[1;3mBased on the observation, the user can seek justice based on the Consumer Protection Act of 1986 in India. This act provides protection to consumers against unfair trade practices by businesses.\n",
      "\n",
      "Thought: I now know the final answer.\n",
      "Final Answer: To seek justice in this case, the user should file a consumer complaint with the District Forum in India, following the procedure outlined in the article titled \"How to File a Case in Consumer Court?\" from Surendranath Evening College. The user can also rely on the Consumer Protection Act of 1986 to support their case.\u001b[0m\n",
      "\n",
      "\u001b[1m> Finished chain.\u001b[0m\n"
     ]
    }
   ],
   "source": [
    "response = SolutionGenerator(\"where/who do I go to and what do I need for my case to get justice\", \"consumer protection law\", analysis) #, sources, source_documents)#put a while until it takes action "
   ]
  },
  {
   "cell_type": "code",
   "execution_count": 34,
   "metadata": {
    "execution": {
     "iopub.execute_input": "2023-09-21T18:54:04.063083Z",
     "iopub.status.busy": "2023-09-21T18:54:04.062730Z",
     "iopub.status.idle": "2023-09-21T18:54:04.069010Z",
     "shell.execute_reply": "2023-09-21T18:54:04.067874Z",
     "shell.execute_reply.started": "2023-09-21T18:54:04.063055Z"
    },
    "trusted": true
   },
   "outputs": [
    {
     "name": "stdout",
     "output_type": "stream",
     "text": [
      "{'input': 'where/who do I go to and what do I need for my case to get justice', 'law_type': 'consumer protection law', 'description': {'query': 'I recieved spoiled milk and I got very sick. The provider is not accepting responsibility.\\n additional details: The question is asking for confirmation on whether the employer purchased the spoiled milk for use at the workplace and if the manufacturer provided any warnings or instructions regarding the milk.\\n additional details: no I bought it for personal use.', 'result': \"Based on the given information, the top 3 laws that may apply to this situation are:\\n\\n1. Section 86: Liability of product sellers - 70%\\n2. Section 32(b): Act of omission or commission or negligence - 20%\\n3. Section 2(a): Failure to provide adequate warnings or instructions - 10%\\n\\nExplanation for the law with the highest confidence level (Section 86: Liability of product sellers - 70%):\\n\\nThe law with the highest confidence level is Section 86, which states that a product seller who is not a product manufacturer shall be liable in a product liability action. In this case, since the user received spoiled milk and got sick, the product seller may be held responsible for the harm caused.\\n\\nHowever, the confidence level is not higher because there may be additional factors or circumstances that could affect the liability of the product seller. For example, if the user had consumed the milk after its expiration date or had mishandled it, the product seller may argue that the harm was caused by the user's misuse or alteration of the product. Without further information, it is difficult to determine the exact circumstances surrounding the purchase and use of the milk.\\n\\nTo clarify the situation and gather more information, it would be helpful to ask the user the following questions:\\n- Did you consume the milk after its expiration date?\\n- Did you mishandle or improperly store the milk?\\n- Did you alter or modify the milk in any way before consuming it?\\n- Did the product seller provide any warnings or instructions regarding the milk at the time of purchase?\"}, 'output': 'To seek justice in this case, the user should file a consumer complaint with the District Forum in India, following the procedure outlined in the article titled \"How to File a Case in Consumer Court?\" from Surendranath Evening College. The user can also rely on the Consumer Protection Act of 1986 to support their case.', 'intermediate_steps': [(AgentAction(tool='Intermediate Answer', tool_input='consumer protection laws and procedures in India', log='Thought: To determine where the user should go and what they need for their case, we need to consider the laws and legal procedures related to consumer protection in India.\\n\\nAction: Intermediate Answer\\nAction Input: \"consumer protection laws and procedures in India\"'), 'Procedure to File Consumer Case Any consumer complaint relating to a good or service must be filed in writing with a District Forum by the consumer along with the fee. On receipt of a complaint, the District Forum may reject or approve the complaint, usually within 21 days from the date of complaint.'), (AgentAction(tool='Intermediate Answer', tool_input='how to file a consumer complaint in India', log='Based on the observation, it seems that the user should file a consumer complaint with the District Forum in India. \\n\\nAction: Intermediate Answer\\nAction Input: \"how to file a consumer complaint in India\"'), 'What is the procedure to file a complaint in the Consumer Court?'), (AgentAction(tool='Intermediate Answer', tool_input='procedure to file a complaint in the Consumer Court in India', log='Based on the observation, it seems that the user should follow the procedure to file a complaint in the Consumer Court in India. \\n\\nAction: Intermediate Answer\\nAction Input: \"procedure to file a complaint in the Consumer Court in India\"'), \"{'type': 'organic_result', 'title': 'How to File a Case in Consumer Court?', 'source': 'Surendranath Evening College'}\"), (AgentAction(tool='Intermediate Answer', tool_input='consumer protection laws in India', log='Based on the observation, the user should follow the procedure outlined in the article titled \"How to File a Case in Consumer Court?\" from Surendranath Evening College to file a complaint in the Consumer Court in India.\\n\\nAction: Intermediate Answer\\nAction Input: \"consumer protection laws in India\"'), 'The Consumer Protection Act, of 1986, gives protection to consumers against unfair trade practices by businesses. The act was passed after many complaints were received by various organisations regarding the unfair trade practices of certain companies which resulted in the loss of money and time for their customers.')]}\n",
      "\n",
      "\n"
     ]
    }
   ],
   "source": [
    "print(response)\n",
    "print()\n",
    "#print(source)\n",
    "print()\n",
    "#print(source_documents)"
   ]
  },
  {
   "cell_type": "code",
   "execution_count": 35,
   "metadata": {
    "execution": {
     "iopub.execute_input": "2023-09-21T18:54:06.165699Z",
     "iopub.status.busy": "2023-09-21T18:54:06.165354Z",
     "iopub.status.idle": "2023-09-21T18:54:06.169808Z",
     "shell.execute_reply": "2023-09-21T18:54:06.169198Z",
     "shell.execute_reply.started": "2023-09-21T18:54:06.165676Z"
    },
    "trusted": true
   },
   "outputs": [],
   "source": [
    "final_info = []\n",
    "for action in range(len(response[\"intermediate_steps\"])):\n",
    "    final_info.append(\"Thoughts: \" + str(response[\"intermediate_steps\"][action][0].log))\n",
    "    final_info.append(\"Observations: \" + str(response[\"intermediate_steps\"][action][1]))"
   ]
  },
  {
   "cell_type": "code",
   "execution_count": 36,
   "metadata": {
    "execution": {
     "iopub.execute_input": "2023-09-21T18:54:07.746721Z",
     "iopub.status.busy": "2023-09-21T18:54:07.746083Z",
     "iopub.status.idle": "2023-09-21T18:54:07.750778Z",
     "shell.execute_reply": "2023-09-21T18:54:07.749866Z",
     "shell.execute_reply.started": "2023-09-21T18:54:07.746683Z"
    },
    "trusted": true
   },
   "outputs": [
    {
     "name": "stdout",
     "output_type": "stream",
     "text": [
      "['Thoughts: Thought: To determine where the user should go and what they need for their case, we need to consider the laws and legal procedures related to consumer protection in India.\\n\\nAction: Intermediate Answer\\nAction Input: \"consumer protection laws and procedures in India\"', 'Observations: Procedure to File Consumer Case Any consumer complaint relating to a good or service must be filed in writing with a District Forum by the consumer along with the fee. On receipt of a complaint, the District Forum may reject or approve the complaint, usually within 21 days from the date of complaint.', 'Thoughts: Based on the observation, it seems that the user should file a consumer complaint with the District Forum in India. \\n\\nAction: Intermediate Answer\\nAction Input: \"how to file a consumer complaint in India\"', 'Observations: What is the procedure to file a complaint in the Consumer Court?', 'Thoughts: Based on the observation, it seems that the user should follow the procedure to file a complaint in the Consumer Court in India. \\n\\nAction: Intermediate Answer\\nAction Input: \"procedure to file a complaint in the Consumer Court in India\"', \"Observations: {'type': 'organic_result', 'title': 'How to File a Case in Consumer Court?', 'source': 'Surendranath Evening College'}\", 'Thoughts: Based on the observation, the user should follow the procedure outlined in the article titled \"How to File a Case in Consumer Court?\" from Surendranath Evening College to file a complaint in the Consumer Court in India.\\n\\nAction: Intermediate Answer\\nAction Input: \"consumer protection laws in India\"', 'Observations: The Consumer Protection Act, of 1986, gives protection to consumers against unfair trade practices by businesses. The act was passed after many complaints were received by various organisations regarding the unfair trade practices of certain companies which resulted in the loss of money and time for their customers.']\n"
     ]
    }
   ],
   "source": [
    "print(final_info)"
   ]
  },
  {
   "cell_type": "code",
   "execution_count": 42,
   "metadata": {
    "execution": {
     "iopub.execute_input": "2023-09-21T18:56:12.712185Z",
     "iopub.status.busy": "2023-09-21T18:56:12.711921Z",
     "iopub.status.idle": "2023-09-21T18:56:20.501166Z",
     "shell.execute_reply": "2023-09-21T18:56:20.500456Z",
     "shell.execute_reply.started": "2023-09-21T18:56:12.712163Z"
    },
    "trusted": true
   },
   "outputs": [],
   "source": [
    "    template = \"\"\"\n",
    "    The given materials is {final_info} \n",
    "    Compile and make an exhaustive summary of the facts and observations of the logs might understand all the relevant information\n",
    "    Use the information contained in the thoughts and observations, dont say \"thoughts\" or \"observation\"\n",
    "    \"\"\"\n",
    "    \n",
    "    prompt = PromptTemplate(\n",
    "        template = template,\n",
    "        input_variables = ['final_info'],\n",
    "        #partial_variables = {\"da_info\":da_info}\n",
    "    )\n",
    "    \n",
    "    llm_chain = LLMChain(llm=llm, prompt=prompt)\n",
    "    \n",
    "    final_output = llm_chain.run(str(final_info))"
   ]
  },
  {
   "cell_type": "code",
   "execution_count": 43,
   "metadata": {
    "execution": {
     "iopub.execute_input": "2023-09-21T18:56:20.502124Z",
     "iopub.status.busy": "2023-09-21T18:56:20.501909Z",
     "iopub.status.idle": "2023-09-21T18:56:20.507742Z",
     "shell.execute_reply": "2023-09-21T18:56:20.506502Z",
     "shell.execute_reply.started": "2023-09-21T18:56:20.502104Z"
    },
    "trusted": true
   },
   "outputs": [
    {
     "name": "stdout",
     "output_type": "stream",
     "text": [
      "- The user needs to determine where they should go and what they need for their case related to consumer protection in India.\n",
      "- The procedure to file a consumer case in India requires the consumer to submit a written complaint with the District Forum along with the fee.\n",
      "- The District Forum may approve or reject the complaint within 21 days from the date of submission.\n",
      "- The user should file a consumer complaint with the District Forum in India.\n",
      "- The user should follow the procedure to file a complaint in the Consumer Court in India.\n",
      "- The user can refer to an article titled \"How to File a Case in Consumer Court?\" from Surendranath Evening College for guidance on filing a complaint in the Consumer Court in India.\n",
      "- The Consumer Protection Act of 1986 provides protection to consumers against unfair trade practices by businesses.\n",
      "- The act was passed in response to numerous complaints regarding unfair trade practices that resulted in financial and time losses for customers.\n"
     ]
    }
   ],
   "source": [
    "print(final_output)"
   ]
  },
  {
   "cell_type": "code",
   "execution_count": 44,
   "metadata": {
    "execution": {
     "iopub.execute_input": "2023-09-21T18:56:51.937707Z",
     "iopub.status.busy": "2023-09-21T18:56:51.937373Z",
     "iopub.status.idle": "2023-09-21T18:56:51.945065Z",
     "shell.execute_reply": "2023-09-21T18:56:51.943876Z",
     "shell.execute_reply.started": "2023-09-21T18:56:51.937683Z"
    },
    "trusted": true
   },
   "outputs": [
    {
     "ename": "IndentationError",
     "evalue": "expected an indented block after 'if' statement on line 3 (2397810302.py, line 5)",
     "output_type": "error",
     "traceback": [
      "\u001b[0;36m  Cell \u001b[0;32mIn[44], line 5\u001b[0;36m\u001b[0m\n\u001b[0;31m    else if(law_type == \"civil law\"):\u001b[0m\n\u001b[0m    ^\u001b[0m\n\u001b[0;31mIndentationError\u001b[0m\u001b[0;31m:\u001b[0m expected an indented block after 'if' statement on line 3\n"
     ]
    }
   ],
   "source": [
    "def chain_selector(law_type):\n",
    "    \n",
    "    if(law_type == \"criminal law\"):\n",
    "        #def \n",
    "    else if(law_type == \"civil law\"):\n",
    "        \n",
    "    else if(law_type == \"family law\"):\n",
    "    \n",
    "    else if(law_type == \"property law\"):\n",
    "    \n",
    "    else if(law_type == \"constitutional law\"):\n",
    "    \n",
    "    else if(law_type == \"administrative law\"):\n",
    "        \n",
    "    else if(law_type == \"tax law\"):\n",
    "        \n",
    "    else if(law_type == \"labor and employment law\"):\n",
    "        \n",
    "    else if(law_type == \"intellectual property law\"):\n",
    "        \n",
    "    else if(law_type == \"cyber law\"):\n",
    "        \n",
    "    else if(law_type == \"international law\"):\n",
    "        \n",
    "    else if(law_type == \"human rights law\"):\n",
    "        \n",
    "    else if(law_type == \"consumer protection law\"):\n",
    "        \n",
    "    else if(law_type == \"tribal and indigenous law\"):\n",
    "        \n",
    "    else if(law_type == \"customary law\"):\n",
    "        \n",
    "    else if(law_type == \"banking and finance law\"):\n",
    "        "
   ]
  },
  {
   "cell_type": "code",
   "execution_count": null,
   "metadata": {
    "execution": {
     "iopub.status.busy": "2023-09-07T03:36:08.509536Z",
     "iopub.status.idle": "2023-09-07T03:36:08.510015Z",
     "shell.execute_reply": "2023-09-07T03:36:08.509793Z",
     "shell.execute_reply.started": "2023-09-07T03:36:08.50977Z"
    },
    "trusted": true
   },
   "outputs": [],
   "source": [
    "query = '''\n",
    "This is my late grandad's house. My uncle rented it out to a family soon after my grandad's death in 2020. Since last year, we've been trying to get them to vacate since we want to sell the property. However, they kept delaying giving various reasons, and we graciously agreed thinking that delaying by a couple of months each time was no biggie since they promised that they would eventually relocate.\n",
    "\n",
    "\n",
    "\n",
    "Last time (in March of this year), they told us to give them time until Sept. And so, my uncle went to speak to them today. They are flat-out refusing to move out. They said they never planning on leaving the property. They also haven't been paying rent since March because they told us to deduct it from the deposit (my uncle agreed to it; it was foolish). Now the deposit has run out and they say they won't pay rent either. Instead, they proposed a really ridiculous alternative.\n",
    "\n",
    "\n",
    "\n",
    "Here's their deal - They want to pay 20 Lakhs now for the house and draw up an agreement that states that they will buy the property from us in Feb 2024 and that the remaining consideration will be paid in full then.\n",
    "\n",
    "\n",
    "\n",
    "We think that this is beyond ludicrous considering the fact that this house is located in Indiranagar and given their behaviour so far, they are more likely to wash their hands off in Feb by stating that they paid the agreed sale price of 20L and we will be left with nothing.\n",
    "\n",
    "\n",
    "\n",
    "They are from Bangalore itself and have a lot of connections and are hell-bent on keeping the property for themselves through hook or crook.\n",
    "'''\n"
   ]
  },
  {
   "cell_type": "code",
   "execution_count": null,
   "metadata": {},
   "outputs": [],
   "source": [
    "  You are to use the given document information context that includes information on consumer law and it's various aspects in detail,\n",
    "    and using that determine the formal name of the type of felony or crime or injustice that is in play in the user given situation.\n",
    "    "
   ]
  },
  {
   "cell_type": "code",
   "execution_count": null,
   "metadata": {
    "execution": {
     "iopub.execute_input": "2023-09-21T10:53:51.239475Z",
     "iopub.status.busy": "2023-09-21T10:53:51.239067Z",
     "iopub.status.idle": "2023-09-21T10:53:58.871662Z",
     "shell.execute_reply": "2023-09-21T10:53:58.870610Z",
     "shell.execute_reply.started": "2023-09-21T10:53:51.239445Z"
    },
    "trusted": true
   },
   "outputs": [],
   "source": [
    "    template = \"\"\"\n",
    "    Given to you are two questions:\n",
    "    \n",
    "    question 1: Did you purchase the milk yourself or was it provided by your employer for use at the workplace?\n",
    "    \n",
    "    question 2: According to one of the laws that apply to this situation, if the spoiled milk was a product that required expert handling or supervision, and the manufacturer provided adequate warnings or instructions to experts, they may not be held responsible for any harm caused. Can you provide any information about whether the spoiled milk falls under the category of a product that is legally meant to be used or dispensed only by or under the supervision of an expert or a class of experts, and whether the manufacturer provided warnings or instructions to such experts?\n",
    "    \n",
    "    input: {input}\n",
    "    \"\"\"\n",
    "    \n",
    "    prompt = PromptTemplate(\n",
    "        template = template,\n",
    "        input_variables = ['input'],\n",
    "    )\n",
    "    \n",
    "    llm_chain = LLMChain(llm=llm, prompt=prompt)\n",
    "    \n",
    "    final_output = llm_chain.run(\"What is the underlying logical/characteristic difference between the two questions provided that may differentiate them into different types which can be used to differentiate even other questions\")"
   ]
  },
  {
   "cell_type": "code",
   "execution_count": null,
   "metadata": {
    "execution": {
     "iopub.execute_input": "2023-09-21T10:53:58.874523Z",
     "iopub.status.busy": "2023-09-21T10:53:58.873816Z",
     "iopub.status.idle": "2023-09-21T10:53:58.880339Z",
     "shell.execute_reply": "2023-09-21T10:53:58.879295Z",
     "shell.execute_reply.started": "2023-09-21T10:53:58.874482Z"
    },
    "trusted": true
   },
   "outputs": [],
   "source": [
    "print(final_output)"
   ]
  },
  {
   "cell_type": "code",
   "execution_count": null,
   "metadata": {},
   "outputs": [],
   "source": [
    " \"\"\"\n",
    "        template = \"\"\"\n",
    "        #Based on the situation given in the input, identify the core issue behind it, and phrase a simple question,\n",
    "        #that if performed a google search upon, will result in facts that answer the question. To this end identify things\n",
    "        #like the core entity/object/relationship and phrase your question around those. Output the question.\n",
    "        #ALSO ANSWER YOUR QUESTION. GIVE A DIRECT ANSWER.\n",
    "        #input: {input}\n",
    "        \"\"\"    \n",
    "        prompt = PromptTemplate(\n",
    "            template = template,\n",
    "            input_variables = ['input'],\n",
    "        )\n",
    "    \n",
    "        llm_chain = LLMChain(llm=llm, prompt=prompt)\n",
    "    \n",
    "        question = llm_chain.run(question)    \n",
    "        \n",
    "        print(question)\n",
    "        \n",
    "        search = SerpAPIWrapper(serpapi_api_key='')\n",
    "        tools = [\n",
    "        Tool(\n",
    "            name=\"Intermediate Answer\",\n",
    "            func=search.run,\n",
    "            description='google search'\n",
    "        )\n",
    "        ]\n",
    "        self_ask_with_search = initialize_agent(\n",
    "        tools, llm, agent=AgentType.SELF_ASK_WITH_SEARCH, verbose=True\n",
    "        )\n",
    "        \n",
    "        details = self_ask_with_search.run(question)\n",
    "        #details = (search result)\n",
    "        \"\"\""
   ]
  }
 ],
 "metadata": {
  "kernelspec": {
   "display_name": "Python 3",
   "language": "python",
   "name": "python3"
  },
  "language_info": {
   "codemirror_mode": {
    "name": "ipython",
    "version": 3
   },
   "file_extension": ".py",
   "mimetype": "text/x-python",
   "name": "python",
   "nbconvert_exporter": "python",
   "pygments_lexer": "ipython3",
   "version": "3.10.12"
  }
 },
 "nbformat": 4,
 "nbformat_minor": 4
}
